{
 "cells": [
  {
   "cell_type": "code",
   "execution_count": 1,
   "metadata": {},
   "outputs": [],
   "source": [
    "from selenium import webdriver\n",
    "from selenium.webdriver.chrome.service import Service as ChromeService\n",
    "from webdriver_manager.chrome import ChromeDriverManager\n",
    "from selenium.webdriver.common.by import By\n",
    "from selenium.webdriver.common.keys import Keys\n",
    "from selenium.webdriver.common.action_chains import ActionChains\n",
    "from selenium.webdriver.chrome.options import Options\n",
    "from selenium.webdriver.support.ui import WebDriverWait\n",
    "from selenium.webdriver.support import expected_conditions as EC\n",
    "\n",
    "import time"
   ]
  },
  {
   "cell_type": "code",
   "execution_count": 6,
   "metadata": {},
   "outputs": [],
   "source": [
    "user_data_dir = r\"C:\\Users\\Workstation 2.0\\AppData\\Local\\Google\\Chrome\\User Data\\Profile 5\"\n",
    "\n",
    "# Set ChromeOptions to specify the user data directory\n",
    "options = Options()\n",
    "options.add_argument(f\"user-data-dir={user_data_dir}\")\n",
    "# options.add_argument('--restore-last-session')\n",
    "\n",
    "# Optional: specify a specific profile within the user data directory\n",
    "options.add_argument(\"profile-directory=WhatsApp_Automate\")  # WhatsApp_Automate\n",
    "\n",
    "# Initialize the WebDriver with the specified options\n",
    "try:\n",
    "    driver = webdriver.Chrome(options=options)\n",
    "except:\n",
    "    print(\"Brewser already runnig..\")"
   ]
  },
  {
   "cell_type": "code",
   "execution_count": 7,
   "metadata": {},
   "outputs": [],
   "source": [
    "driver.get(\"https://web.whatsapp.com\")\n",
    "time.sleep(10)  # Wait for QR scan (for the first time)"
   ]
  },
  {
   "cell_type": "code",
   "execution_count": 8,
   "metadata": {},
   "outputs": [],
   "source": [
    "def find_contact(phone_number):\n",
    "    new_chat_btn = driver.find_element(By.XPATH, \"//div[@role='button' and @aria-label='New chat']\")\n",
    "    new_chat_btn.click()\n",
    "    time.sleep(2)\n",
    "    driver.switch_to.active_element.send_keys(phone_number)\n",
    "    time.sleep(2)\n",
    "    driver.switch_to.active_element.send_keys(Keys.RETURN)"
   ]
  },
  {
   "cell_type": "code",
   "execution_count": 9,
   "metadata": {},
   "outputs": [],
   "source": [
    "\n",
    "def send_message(message):\n",
    "    driver.switch_to.active_element.send_keys(message)\n",
    "    time.sleep(2)\n",
    "    driver.switch_to.active_element.send_keys(Keys.RETURN)"
   ]
  },
  {
   "cell_type": "code",
   "execution_count": 27,
   "metadata": {},
   "outputs": [],
   "source": [
    "phone_numbers = [\"+8801878119442\", \"+8801643872560\", \"+1975874690\", \"+8801935232394\"]\n",
    "message = \"trying to automate WhatsApp using Python! \\n This is a test message.\"\n"
   ]
  },
  {
   "cell_type": "code",
   "execution_count": 28,
   "metadata": {},
   "outputs": [],
   "source": [
    "\n",
    "for number in phone_numbers:\n",
    "    find_contact(number)\n",
    "    send_message(message)\n",
    "    time.sleep(5)\n",
    "\n",
    "# close browser\n",
    "# driver.quit()"
   ]
  }
 ],
 "metadata": {
  "kernelspec": {
   "display_name": "base",
   "language": "python",
   "name": "python3"
  },
  "language_info": {
   "codemirror_mode": {
    "name": "ipython",
    "version": 3
   },
   "file_extension": ".py",
   "mimetype": "text/x-python",
   "name": "python",
   "nbconvert_exporter": "python",
   "pygments_lexer": "ipython3",
   "version": "3.11.5"
  }
 },
 "nbformat": 4,
 "nbformat_minor": 2
}
